{
  "cells": [
    {
      "cell_type": "markdown",
      "metadata": {
        "id": "IxWHdQJJpMD9"
      },
      "source": [
        "## << 문제 정의 >>\n",
        "\n",
        "주어진 California Housing dataset을 사용하여 house block별로 **집값의 중앙값(MedHouseVal)**를 예측하는 문제를 풉니다.\n",
        "\n",
        "사용할 데이터는 scikit-learn에서 제공하는 California Housing Data를 사용합니다. 데이터 설명은 아래 링크를 참고하세요.\n",
        "\n",
        "평가하는 성능 지표는 예측한 MedHouseVal과 정답 MedHouseVal 사이의 **Root Mean Squared Error(RMSE)**값으로 정의합니다.\n",
        "\n",
        "\n",
        "\n",
        "> [Source] https://scikit-learn.org/stable/datasets/real_world.html#california-housing-dataset"
      ]
    },
    {
      "cell_type": "code",
      "execution_count": null,
      "metadata": {
        "id": "YLi8JNiJZjJi"
      },
      "outputs": [],
      "source": [
        "import numpy as np\n",
        "import pandas as pd\n",
        "import matplotlib.pyplot as plt\n",
        "import seaborn as sns\n",
        "\n",
        "import os\n",
        "import sys\n",
        "import gc\n",
        "\n",
        "from tqdm.auto import tqdm\n",
        "\n",
        "import sklearn"
      ]
    },
    {
      "cell_type": "markdown",
      "metadata": {
        "id": "9CTY5XKts45r"
      },
      "source": [
        "### Q1. sklearn 라이브러리의 fetch_california_housing 함수를 사용하여 DataFrame 형태의 원본 데이터와, 데이터에 대한 설명을 출력하세요."
      ]
    },
    {
      "cell_type": "code",
      "execution_count": null,
      "metadata": {
        "id": "l2mnZ7TCcYYZ"
      },
      "outputs": [],
      "source": [
        "# 함수 불러오기\n",
        "from sklearn.datasets import fetch_california_housing\n",
        "\n",
        "data = fetch_california_housing(as_frame=True).frame\n",
        "data = pd.DataFrame(data)\n",
        "display(data)\n",
        "description = fetch_california_housing().DESCR\n",
        "print(description)"
      ]
    },
    {
      "cell_type": "markdown",
      "metadata": {
        "id": "SNyxvMVet9YU"
      },
      "source": [
        "### Q2. 불러온 데이터의 기본적인 정보를 확인합니다. data의 크기를 확인하고, MedHouseVal에 대한 histogram을 출력합니다."
      ]
    },
    {
      "cell_type": "code",
      "execution_count": null,
      "metadata": {
        "id": "SxU_rnSQdaZp"
      },
      "outputs": [],
      "source": [
        "# data 크기 출력\n",
        "print(fetch_california_housing().data.shape)\n",
        "# histogram 출력\n",
        "sns.histplot(data=data, x='MedHouseVal')"
      ]
    },
    {
      "cell_type": "markdown",
      "metadata": {
        "id": "WIP_OP_Su6_w"
      },
      "source": [
        "### Q3. 학습을 위해서 데이터를 train, test 데이터로 분할합니다. 데이터 분할을 위한 feature_vector와 target value를 정의하고, train_test_split 함수를 사용하여 데이터를 분할하세요.\n",
        "\n",
        "(단, train : test 데이터의 비율은 8 : 2로 합니다.)"
      ]
    },
    {
      "cell_type": "code",
      "execution_count": null,
      "metadata": {
        "id": "f-LAPki2jpq9"
      },
      "outputs": [],
      "source": [
        "# 데이터 분할에 사용할 데이터 정의\n",
        "\n",
        "X =  fetch_california_housing().data # feature vector\n",
        "y =  fetch_california_housing().target# target value\n",
        "\n",
        "from sklearn.model_selection import train_test_split\n",
        "# train_test_split 함수 사용\n",
        "\n",
        "X_train, X_test, y_train, y_test = train_test_split(X, y, test_size=0.2, random_state=42)\n",
        "\n",
        "print(X_train.shape, X_test.shape, y_train.shape, y_test.shape)"
      ]
    },
    {
      "cell_type": "markdown",
      "metadata": {
        "id": "nctjsRaZv13h"
      },
      "source": [
        "### Q4. Q3에서 만든 학습 데이터를 사용하여, LinearRegression 모델을 학습합니다."
      ]
    },
    {
      "cell_type": "code",
      "execution_count": null,
      "metadata": {
        "id": "r--wBSx0olb2"
      },
      "outputs": [],
      "source": [
        "# 모델 불러오기\n",
        "from sklearn.linear_model import LinearRegression\n",
        "\n",
        "# 모델 선언하기\n",
        "modle = LinearRegression()\n",
        "\n",
        "# 모델 학습하기\n",
        "modle.fit(X_train, y_train)\n"
      ]
    },
    {
      "cell_type": "markdown",
      "metadata": {
        "id": "nwXhtYIzwkEe"
      },
      "source": [
        "### Q5. Q4에서 학습한 모델의 예측값과 실제 정답을 비교하여 모델 성능을 평가합니다. 성능 평가는 학습 데이터와 테스트 데이터 둘다 평가합니다."
      ]
    },
    {
      "cell_type": "code",
      "execution_count": null,
      "metadata": {
        "id": "D6sto334q6Ci"
      },
      "outputs": [],
      "source": [
        "# 검증에 사용될 함수 불러오기\n",
        "from sklearn.metrics import mean_squared_error\n",
        "\n",
        "train_preds = modle.predict(X_train) # 모델의 학습 데이터 예측값\n",
        "test_preds =  modle.predict(X_test) # 모델의 테스트 데이터 예측값\n",
        "\n",
        "train_rmse = np.sqrt(mean_squared_error(train_preds,  y_train)) # 학습 데이터로 평가한 RMSE\n",
        "test_rmse =  np.sqrt(mean_squared_error(test_preds, y_test)) # 테스트 데이터로 평가한 RMSE\n",
        "\n",
        "print(\"Train RMSE : %.4f\" % train_rmse)\n",
        "print(\"Test RMSE : %.4f\" % test_rmse)"
      ]
    },
    {
      "cell_type": "code",
      "execution_count": null,
      "metadata": {
        "id": "WJ64GhFo5H6j"
      },
      "outputs": [],
      "source": []
    }
  ],
  "metadata": {
    "colab": {
      "provenance": []
    },
    "kernelspec": {
      "display_name": "Python 3",
      "name": "python3"
    },
    "language_info": {
      "name": "python"
    }
  },
  "nbformat": 4,
  "nbformat_minor": 0
}
